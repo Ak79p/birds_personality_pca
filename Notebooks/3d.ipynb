{
 "cells": [
  {
   "cell_type": "code",
   "execution_count": 1,
   "metadata": {},
   "outputs": [],
   "source": [
    "import pandas as pd\n",
    "from sklearn.decomposition import PCA\n",
    "from sklearn.cluster import KMeans\n",
    "from sklearn.preprocessing import StandardScaler\n",
    "import matplotlib.pyplot as plt\n",
    "import seaborn as sns\n",
    "import plotly.express as px\n",
    "from plotly.subplots import make_subplots\n",
    "import plotly.graph_objects as go"
   ]
  },
  {
   "cell_type": "code",
   "execution_count": 2,
   "metadata": {},
   "outputs": [
    {
     "data": {
      "text/html": [
       "<div>\n",
       "<style scoped>\n",
       "    .dataframe tbody tr th:only-of-type {\n",
       "        vertical-align: middle;\n",
       "    }\n",
       "\n",
       "    .dataframe tbody tr th {\n",
       "        vertical-align: top;\n",
       "    }\n",
       "\n",
       "    .dataframe thead th {\n",
       "        text-align: right;\n",
       "    }\n",
       "</style>\n",
       "<table border=\"1\" class=\"dataframe\">\n",
       "  <thead>\n",
       "    <tr style=\"text-align: right;\">\n",
       "      <th></th>\n",
       "      <th>Exploration</th>\n",
       "      <th>Neophobia</th>\n",
       "      <th>Neophilia</th>\n",
       "      <th>Aggression</th>\n",
       "      <th>Boldness</th>\n",
       "      <th>Personality</th>\n",
       "    </tr>\n",
       "  </thead>\n",
       "  <tbody>\n",
       "    <tr>\n",
       "      <th>0</th>\n",
       "      <td>0.87026</td>\n",
       "      <td>1.85823</td>\n",
       "      <td>0.83398</td>\n",
       "      <td>0.43279</td>\n",
       "      <td>-1.35431</td>\n",
       "      <td>Angry Bird</td>\n",
       "    </tr>\n",
       "    <tr>\n",
       "      <th>1</th>\n",
       "      <td>1.46306</td>\n",
       "      <td>-0.60086</td>\n",
       "      <td>-0.92405</td>\n",
       "      <td>0.72763</td>\n",
       "      <td>1.08221</td>\n",
       "      <td>Angry Bird</td>\n",
       "    </tr>\n",
       "    <tr>\n",
       "      <th>2</th>\n",
       "      <td>1.94799</td>\n",
       "      <td>-0.05401</td>\n",
       "      <td>0.24467</td>\n",
       "      <td>-1.89158</td>\n",
       "      <td>-0.18457</td>\n",
       "      <td>A Pretty Chill Bird</td>\n",
       "    </tr>\n",
       "    <tr>\n",
       "      <th>3</th>\n",
       "      <td>0.06201</td>\n",
       "      <td>-0.54020</td>\n",
       "      <td>0.17969</td>\n",
       "      <td>0.04281</td>\n",
       "      <td>1.08080</td>\n",
       "      <td>Standard Bird</td>\n",
       "    </tr>\n",
       "    <tr>\n",
       "      <th>4</th>\n",
       "      <td>-0.96196</td>\n",
       "      <td>0.30524</td>\n",
       "      <td>-0.45602</td>\n",
       "      <td>-0.23742</td>\n",
       "      <td>0.56366</td>\n",
       "      <td>A Pretty Chill Bird</td>\n",
       "    </tr>\n",
       "    <tr>\n",
       "      <th>...</th>\n",
       "      <td>...</td>\n",
       "      <td>...</td>\n",
       "      <td>...</td>\n",
       "      <td>...</td>\n",
       "      <td>...</td>\n",
       "      <td>...</td>\n",
       "    </tr>\n",
       "    <tr>\n",
       "      <th>62</th>\n",
       "      <td>-0.90804</td>\n",
       "      <td>-0.53611</td>\n",
       "      <td>-1.30760</td>\n",
       "      <td>0.43248</td>\n",
       "      <td>-0.71326</td>\n",
       "      <td>A Pretty Chill Bird</td>\n",
       "    </tr>\n",
       "    <tr>\n",
       "      <th>63</th>\n",
       "      <td>-0.20749</td>\n",
       "      <td>1.87524</td>\n",
       "      <td>1.29706</td>\n",
       "      <td>0.54875</td>\n",
       "      <td>-0.39362</td>\n",
       "      <td>Standard Bird</td>\n",
       "    </tr>\n",
       "    <tr>\n",
       "      <th>64</th>\n",
       "      <td>0.38521</td>\n",
       "      <td>1.39855</td>\n",
       "      <td>-1.21477</td>\n",
       "      <td>0.47695</td>\n",
       "      <td>-1.49095</td>\n",
       "      <td>Standard Bird</td>\n",
       "    </tr>\n",
       "    <tr>\n",
       "      <th>65</th>\n",
       "      <td>-0.26138</td>\n",
       "      <td>0.06525</td>\n",
       "      <td>-0.15292</td>\n",
       "      <td>-1.89158</td>\n",
       "      <td>-0.90095</td>\n",
       "      <td>A Pretty Chill Bird</td>\n",
       "    </tr>\n",
       "    <tr>\n",
       "      <th>66</th>\n",
       "      <td>1.62467</td>\n",
       "      <td>-0.51944</td>\n",
       "      <td>-1.31487</td>\n",
       "      <td>0.61705</td>\n",
       "      <td>-0.51363</td>\n",
       "      <td>A Pretty Chill Bird</td>\n",
       "    </tr>\n",
       "  </tbody>\n",
       "</table>\n",
       "<p>67 rows × 6 columns</p>\n",
       "</div>"
      ],
      "text/plain": [
       "    Exploration  Neophobia  Neophilia  Aggression  Boldness  \\\n",
       "0       0.87026    1.85823    0.83398     0.43279  -1.35431   \n",
       "1       1.46306   -0.60086   -0.92405     0.72763   1.08221   \n",
       "2       1.94799   -0.05401    0.24467    -1.89158  -0.18457   \n",
       "3       0.06201   -0.54020    0.17969     0.04281   1.08080   \n",
       "4      -0.96196    0.30524   -0.45602    -0.23742   0.56366   \n",
       "..          ...        ...        ...         ...       ...   \n",
       "62     -0.90804   -0.53611   -1.30760     0.43248  -0.71326   \n",
       "63     -0.20749    1.87524    1.29706     0.54875  -0.39362   \n",
       "64      0.38521    1.39855   -1.21477     0.47695  -1.49095   \n",
       "65     -0.26138    0.06525   -0.15292    -1.89158  -0.90095   \n",
       "66      1.62467   -0.51944   -1.31487     0.61705  -0.51363   \n",
       "\n",
       "            Personality  \n",
       "0            Angry Bird  \n",
       "1            Angry Bird  \n",
       "2   A Pretty Chill Bird  \n",
       "3         Standard Bird  \n",
       "4   A Pretty Chill Bird  \n",
       "..                  ...  \n",
       "62  A Pretty Chill Bird  \n",
       "63        Standard Bird  \n",
       "64        Standard Bird  \n",
       "65  A Pretty Chill Bird  \n",
       "66  A Pretty Chill Bird  \n",
       "\n",
       "[67 rows x 6 columns]"
      ]
     },
     "execution_count": 2,
     "metadata": {},
     "output_type": "execute_result"
    }
   ],
   "source": [
    "data = pd.read_csv('Angry+Birds+(Cardinal+Personalities).xlsx+-+Data+for+assignment.csv')\n",
    "\n",
    "features = ['Exploration', 'Neophobia', 'Neophilia', 'Aggression', 'Boldness','Personality']\n",
    "X = data[features]\n",
    "X"
   ]
  },
  {
   "cell_type": "code",
   "execution_count": 3,
   "metadata": {},
   "outputs": [
    {
     "data": {
      "text/plain": [
       "array([[ 0.87682815,  1.87225552,  0.84027397,  0.43605658, -1.36453172],\n",
       "       [ 1.47410221, -0.60539536, -0.93102435,  0.73312205,  1.0903783 ],\n",
       "       [ 1.96269215, -0.05441781,  0.24651629, -1.90585793, -0.18596292],\n",
       "       [ 0.06247801, -0.54427751,  0.18104587,  0.04313298,  1.08895766],\n",
       "       [-0.96922024,  0.30754376, -0.45946201, -0.23921221,  0.56791446],\n",
       "       [ 0.38815761, -0.53572343, -0.6378281 ,  0.1131878 , -1.01777412],\n",
       "       [-1.02350689, -0.40897391,  0.33124094, -0.79892532, -0.9788324 ],\n",
       "       [-0.58912301, -0.53510882,  0.50028722, -1.90585793,  0.72397352],\n",
       "       [-1.186387  ,  0.09950528, -1.000797  , -1.31187811,  0.85110588],\n",
       "       [ 0.11671428, -0.53868562, -0.80284419, -0.32921648,  0.89702991],\n",
       "       [-0.69767616, -0.56162748,  1.34613323,  1.33355017,  0.9729184 ],\n",
       "       [ 1.36543823,  0.04956113, -0.54333024,  1.21953603, -0.99163833],\n",
       "       [-0.20904592, -0.2346379 ,  0.25279331,  0.29831468, -1.60690739],\n",
       "       [-1.186387  , -2.95920854,  1.25693507,  0.20436082,  1.08753702],\n",
       "       [ 0.38816769, -1.09609132,  1.45207682,  0.34362412, -0.55087653],\n",
       "       [ 1.20254806, -1.08681181, -0.65513776,  0.22758481,  1.09463015],\n",
       "       [-0.53482628, -0.48274656, -1.21359099,  0.72853771,  0.9920215 ],\n",
       "       [-0.10046255, -0.52965799, -0.48703858,  0.77761537,  1.08990476],\n",
       "       [-1.24067365, -0.54537574,  1.61026174, -1.90585793,  0.15539423],\n",
       "       [ 2.66846899, -0.53928007, -0.39660113, -0.49446444, -1.50352292],\n",
       "       [ 2.0169788 , -1.19459928, -0.37208751,  0.22123725,  0.854592  ],\n",
       "       [-0.20908622, -0.54427751,  1.00706335, -0.05490144,  1.0903783 ],\n",
       "       [-0.91491344, -0.46675678,  0.76324698,  0.52213141, -0.4708974 ],\n",
       "       [ 1.14821103,  1.88146451, -0.32837003,  0.75173146, -1.20994368],\n",
       "       [-1.07779354, -0.62564707, -0.65510754,  0.97722072,  1.08753702],\n",
       "       [-0.4262429 ,  1.82783274, -0.06004004,  0.40382512, -0.86860669],\n",
       "       [ 0.60533444,  1.70636277,  0.78670268, -0.27172579, -1.57563311],\n",
       "       [ 0.65964125,  1.88700602, -0.16196352,  0.67326362, -0.98657037],\n",
       "       [-1.07780362, -0.54962759, -0.47228808,  0.0843417 ,  1.08990476],\n",
       "       [-0.69770638,  1.79560128,  0.20851161,  0.21555468,  1.0903783 ],\n",
       "       [-0.4262429 ,  1.88235115, -0.15262356,  1.4311715 ,  0.40618291],\n",
       "       [-1.186387  , -0.54622208, -0.79763517,  0.92937226,  1.08753702],\n",
       "       [ 1.69116821, -0.71195362,  2.24407951, -0.55204581,  1.08801057],\n",
       "       [-0.64343988, -0.56540579, -1.9556294 ,  0.48781432, -1.52630357],\n",
       "       [-0.20899555,  1.88285493, -0.2600281 ,  0.47883707, -0.68851762],\n",
       "       [-0.69771646,  1.73173282,  1.96853548, -1.90585793, -0.66982761],\n",
       "       [ 1.09398483,  0.63544014, -0.52929511, -0.34867224,  0.1876156 ],\n",
       "       [-0.15473912,  0.11926329, -0.28163999,  0.70448753,  0.91558893],\n",
       "       [-1.13207012, -0.57019164,  2.57787992, -1.90585793, -1.05014662],\n",
       "       [ 0.44247449,  0.65126872,  1.06732475,  0.37270196, -0.83527701],\n",
       "       [ 2.07131583, -0.54443872, -0.21078926, -1.90585793, -0.70196838],\n",
       "       [ 1.52833849, -0.50917454,  0.86500926, -1.90585793,  1.08943121],\n",
       "       [-1.07780362, -0.55875597, -0.15628096,  0.41136158, -1.41606778],\n",
       "       [-0.37194618,  0.64761132,  0.29642011,  0.01796443,  0.27549391],\n",
       "       [ 0.55101757, -0.17501121, -0.24009881, -0.41816283, -0.28514591],\n",
       "       [-1.24067365,  1.88173655,  2.57787992, -1.90585793,  1.08706347],\n",
       "       [ 0.76816417, -0.31068761, -0.61480564,  0.09501163,  1.08911887],\n",
       "       [-1.13209027, -0.56841836, -0.00469547,  1.12246885, -0.64753058],\n",
       "       [ 0.38820799, -0.34648579, -0.38349294,  0.23070821, -1.45224882],\n",
       "       [-0.80633006, -0.42906441, -0.0863874 ,  1.19749088,  1.08801057],\n",
       "       [-1.24067365, -0.51144152,  0.63505674, -1.90585793,  0.67883539],\n",
       "       [-0.91489329, -0.08646791, -1.45611769,  0.47929047,  1.05695795],\n",
       "       [-0.15475927,  1.8853738 ,  0.78577574,  0.39481764,  1.08895766],\n",
       "       [-0.64341973, -0.54154705, -0.65489595, -1.90585793,  1.08172347],\n",
       "       [-0.5348162 , -0.23299559, -0.37240992,  1.25436697,  1.08706347],\n",
       "       [ 0.33385081, -0.13758081, -0.94250032, -0.67637724, -0.93853049],\n",
       "       [ 0.17099086, -0.50166831, -0.81242597,  1.50298953, -0.28396708],\n",
       "       [-0.15472905, -0.54427751,  1.61428186,  1.47433486, -0.6093546 ],\n",
       "       [ 1.79978182, -0.37010271, -1.02606629,  0.04639744, -1.55135121],\n",
       "       [-0.75199303, -0.59290177, -0.72749981,  0.30217359,  1.09273596],\n",
       "       [-0.69770638, -0.52823735, -0.17713719,  0.63588359, -1.30226527],\n",
       "       [-0.100523  , -0.5235321 , -1.68193926,  0.49155233,  1.08801057],\n",
       "       [-0.91489329, -0.54015664, -1.31746911,  0.43574424, -0.71864329],\n",
       "       [-0.209056  ,  1.88939391,  1.30684896,  0.55289185, -0.39659076],\n",
       "       [ 0.38811731,  1.40910592, -1.2239385 ,  0.4805499 , -1.50220303],\n",
       "       [-0.26335272,  0.06574235, -0.15407443, -1.90585793, -0.90774991],\n",
       "       [ 1.63693194, -0.52336081, -1.32479398,  0.62170739, -0.51750655]])"
      ]
     },
     "execution_count": 3,
     "metadata": {},
     "output_type": "execute_result"
    }
   ],
   "source": [
    "X_train = X.drop(columns='Personality')\n",
    "scaler = StandardScaler()\n",
    "X_scaled = scaler.fit_transform(X_train)\n",
    "X_scaled"
   ]
  },
  {
   "cell_type": "code",
   "execution_count": 4,
   "metadata": {},
   "outputs": [
    {
     "name": "stderr",
     "output_type": "stream",
     "text": [
      "c:\\Users\\kamit\\anaconda3\\Lib\\site-packages\\sklearn\\cluster\\_kmeans.py:870: FutureWarning: The default value of `n_init` will change from 10 to 'auto' in 1.4. Set the value of `n_init` explicitly to suppress the warning\n",
      "  warnings.warn(\n",
      "c:\\Users\\kamit\\anaconda3\\Lib\\site-packages\\sklearn\\cluster\\_kmeans.py:1382: UserWarning: KMeans is known to have a memory leak on Windows with MKL, when there are less chunks than available threads. You can avoid it by setting the environment variable OMP_NUM_THREADS=1.\n",
      "  warnings.warn(\n",
      "C:\\Users\\kamit\\AppData\\Local\\Temp\\ipykernel_15904\\2395040003.py:3: SettingWithCopyWarning: \n",
      "A value is trying to be set on a copy of a slice from a DataFrame.\n",
      "Try using .loc[row_indexer,col_indexer] = value instead\n",
      "\n",
      "See the caveats in the documentation: https://pandas.pydata.org/pandas-docs/stable/user_guide/indexing.html#returning-a-view-versus-a-copy\n",
      "  X['Cluster'] = kmeans.fit_predict(X_scaled)\n"
     ]
    }
   ],
   "source": [
    "# Perform K-Means clustering with 3 clusters\n",
    "kmeans = KMeans(n_clusters=3, random_state=42)\n",
    "X['Cluster'] = kmeans.fit_predict(X_scaled)"
   ]
  },
  {
   "cell_type": "code",
   "execution_count": 5,
   "metadata": {},
   "outputs": [
    {
     "data": {
      "application/vnd.plotly.v1+json": {
       "config": {
        "plotlyServerURL": "https://plot.ly"
       },
       "data": [
        {
         "hovertemplate": "Personality=Angry Bird<br>Neophilia=%{x}<br>Aggression=%{y}<br>Exploration=%{z}<extra></extra>",
         "legendgroup": "Angry Bird",
         "marker": {
          "color": "#2E91E5",
          "size": 5,
          "symbol": "circle"
         },
         "mode": "markers",
         "name": "Angry Bird",
         "scene": "scene",
         "showlegend": true,
         "type": "scatter3d",
         "x": [
          0.83398,
          -0.92405,
          -1.2045,
          -0.48339,
          -0.32591,
          -0.6502,
          -0.16075,
          -0.15148,
          -0.79166,
          -1.94098,
          -0.25808,
          -0.27953,
          -0.00466,
          -0.08574,
          -1.44521,
          0.77989,
          -0.36962,
          -0.80634,
          -1.01838,
          -0.17581
         ],
         "y": [
          0.43279,
          0.72763,
          0.72308,
          0.77179,
          0.7461,
          0.9699,
          0.66822,
          1.42045,
          0.92241,
          0.48416,
          0.47525,
          0.69921,
          1.11406,
          1.18852,
          0.4757,
          0.39186,
          1.24497,
          1.49173,
          0.04605,
          0.63112
         ],
         "z": [
          0.87026,
          1.46306,
          -0.53082,
          -0.09971,
          1.13961,
          -1.06972,
          0.6547,
          -0.42305,
          -1.1775,
          -0.63862,
          -0.20743,
          -0.15358,
          -1.12361,
          -0.80029,
          -0.90804,
          -0.1536,
          -0.53081,
          0.16971,
          1.7863,
          -0.69248
         ]
        },
        {
         "hovertemplate": "Personality=A Pretty Chill Bird<br>Neophilia=%{x}<br>Aggression=%{y}<br>Exploration=%{z}<extra></extra>",
         "legendgroup": "A Pretty Chill Bird",
         "marker": {
          "color": "#E15F99",
          "size": 5,
          "symbol": "circle"
         },
         "mode": "markers",
         "name": "A Pretty Chill Bird",
         "scene": "scene",
         "showlegend": true,
         "type": "scatter3d",
         "x": [
          0.24467,
          -0.45602,
          -0.63305,
          0.32876,
          0.49654,
          1.5982,
          -0.39363,
          1.95379,
          -0.52533,
          2.55857,
          -0.20921,
          0.85853,
          2.55857,
          -0.6102,
          0.6303,
          -1.66934,
          -1.3076,
          -0.15292,
          -1.31487
         ],
         "y": [
          -1.89158,
          -0.23742,
          0.11234,
          -0.79294,
          -1.89158,
          -1.89158,
          -0.49076,
          -1.89158,
          -0.34606,
          -1.89158,
          -1.89158,
          -1.89158,
          -1.89158,
          0.0943,
          -1.89158,
          0.48787,
          0.43248,
          -1.89158,
          0.61705
         ],
         "z": [
          1.94799,
          -0.96196,
          0.38525,
          -1.01584,
          -0.58471,
          -1.23138,
          2.64848,
          -0.69249,
          1.08579,
          -1.12359,
          2.0558,
          1.51689,
          -1.23138,
          0.76241,
          -1.23138,
          -0.09977,
          -0.90804,
          -0.26138,
          1.62467
         ]
        },
        {
         "hovertemplate": "Personality=Standard Bird<br>Neophilia=%{x}<br>Aggression=%{y}<br>Exploration=%{z}<extra></extra>",
         "legendgroup": "Standard Bird",
         "marker": {
          "color": "#1CA71C",
          "size": 5,
          "symbol": "circle"
         },
         "mode": "markers",
         "name": "Standard Bird",
         "scene": "scene",
         "showlegend": true,
         "type": "scatter3d",
         "x": [
          0.17969,
          -0.9933,
          -0.79683,
          1.33605,
          -0.53926,
          0.2509,
          1.24752,
          1.4412,
          -0.65023,
          -0.3693,
          0.99952,
          0.75753,
          -0.05959,
          0.78081,
          -0.46875,
          0.20695,
          2.22727,
          1.05933,
          -0.15511,
          0.2942,
          -0.2383,
          -0.38062,
          -0.64999,
          -0.93544,
          1.60219,
          -0.72205,
          1.29706,
          -1.21477
         ],
         "y": [
          0.04281,
          -1.30205,
          -0.32675,
          1.32356,
          1.2104,
          0.29608,
          0.20283,
          0.34105,
          0.22588,
          0.21958,
          -0.05449,
          0.51822,
          0.4008,
          -0.26969,
          0.08371,
          0.21394,
          -0.54791,
          0.36991,
          0.40828,
          0.01783,
          -0.41503,
          0.22898,
          -1.89158,
          -0.67131,
          1.46329,
          0.29991,
          0.54875,
          0.47695
         ],
         "z": [
          0.06201,
          -1.1775,
          0.11584,
          -0.69245,
          1.35521,
          -0.20748,
          -1.1775,
          0.38526,
          1.19354,
          2.00187,
          -0.20752,
          -0.90806,
          -0.42305,
          0.6008,
          -1.06973,
          -0.69248,
          1.6785,
          0.43916,
          -1.06973,
          -0.36916,
          0.54689,
          0.3853,
          -0.6386,
          0.33135,
          -0.15357,
          -0.74636,
          -0.20749,
          0.38521
         ]
        },
        {
         "hovertemplate": "Neophilia=%{x}<br>Aggression=%{y}<br>Exploration=%{z}<br>Cluster=%{marker.color}<extra></extra>",
         "legendgroup": "",
         "marker": {
          "color": [
           1,
           0,
           2,
           0,
           0,
           1,
           2,
           2,
           0,
           0,
           0,
           1,
           1,
           0,
           2,
           0,
           0,
           0,
           2,
           1,
           0,
           0,
           0,
           1,
           0,
           1,
           1,
           1,
           0,
           0,
           1,
           0,
           2,
           1,
           1,
           2,
           1,
           0,
           2,
           1,
           2,
           2,
           1,
           0,
           1,
           2,
           0,
           0,
           1,
           0,
           2,
           0,
           0,
           2,
           0,
           1,
           0,
           1,
           1,
           0,
           1,
           0,
           0,
           1,
           1,
           2,
           1
          ],
          "coloraxis": "coloraxis",
          "size": 5,
          "symbol": "circle"
         },
         "mode": "markers",
         "name": "",
         "scene": "scene2",
         "showlegend": false,
         "type": "scatter3d",
         "x": [
          0.83398,
          -0.92405,
          0.24467,
          0.17969,
          -0.45602,
          -0.63305,
          0.32876,
          0.49654,
          -0.9933,
          -0.79683,
          1.33605,
          -0.53926,
          0.2509,
          1.24752,
          1.4412,
          -0.65023,
          -1.2045,
          -0.48339,
          1.5982,
          -0.39363,
          -0.3693,
          0.99952,
          0.75753,
          -0.32591,
          -0.6502,
          -0.05959,
          0.78081,
          -0.16075,
          -0.46875,
          0.20695,
          -0.15148,
          -0.79166,
          2.22727,
          -1.94098,
          -0.25808,
          1.95379,
          -0.52533,
          -0.27953,
          2.55857,
          1.05933,
          -0.20921,
          0.85853,
          -0.15511,
          0.2942,
          -0.2383,
          2.55857,
          -0.6102,
          -0.00466,
          -0.38062,
          -0.08574,
          0.6303,
          -1.44521,
          0.77989,
          -0.64999,
          -0.36962,
          -0.93544,
          -0.80634,
          1.60219,
          -1.01838,
          -0.72205,
          -0.17581,
          -1.66934,
          -1.3076,
          1.29706,
          -1.21477,
          -0.15292,
          -1.31487
         ],
         "y": [
          0.43279,
          0.72763,
          -1.89158,
          0.04281,
          -0.23742,
          0.11234,
          -0.79294,
          -1.89158,
          -1.30205,
          -0.32675,
          1.32356,
          1.2104,
          0.29608,
          0.20283,
          0.34105,
          0.22588,
          0.72308,
          0.77179,
          -1.89158,
          -0.49076,
          0.21958,
          -0.05449,
          0.51822,
          0.7461,
          0.9699,
          0.4008,
          -0.26969,
          0.66822,
          0.08371,
          0.21394,
          1.42045,
          0.92241,
          -0.54791,
          0.48416,
          0.47525,
          -1.89158,
          -0.34606,
          0.69921,
          -1.89158,
          0.36991,
          -1.89158,
          -1.89158,
          0.40828,
          0.01783,
          -0.41503,
          -1.89158,
          0.0943,
          1.11406,
          0.22898,
          1.18852,
          -1.89158,
          0.4757,
          0.39186,
          -1.89158,
          1.24497,
          -0.67131,
          1.49173,
          1.46329,
          0.04605,
          0.29991,
          0.63112,
          0.48787,
          0.43248,
          0.54875,
          0.47695,
          -1.89158,
          0.61705
         ],
         "z": [
          0.87026,
          1.46306,
          1.94799,
          0.06201,
          -0.96196,
          0.38525,
          -1.01584,
          -0.58471,
          -1.1775,
          0.11584,
          -0.69245,
          1.35521,
          -0.20748,
          -1.1775,
          0.38526,
          1.19354,
          -0.53082,
          -0.09971,
          -1.23138,
          2.64848,
          2.00187,
          -0.20752,
          -0.90806,
          1.13961,
          -1.06972,
          -0.42305,
          0.6008,
          0.6547,
          -1.06973,
          -0.69248,
          -0.42305,
          -1.1775,
          1.6785,
          -0.63862,
          -0.20743,
          -0.69249,
          1.08579,
          -0.15358,
          -1.12359,
          0.43916,
          2.0558,
          1.51689,
          -1.06973,
          -0.36916,
          0.54689,
          -1.23138,
          0.76241,
          -1.12361,
          0.3853,
          -0.80029,
          -1.23138,
          -0.90804,
          -0.1536,
          -0.6386,
          -0.53081,
          0.33135,
          0.16971,
          -0.15357,
          1.7863,
          -0.74636,
          -0.69248,
          -0.09977,
          -0.90804,
          -0.20749,
          0.38521,
          -0.26138,
          1.62467
         ]
        }
       ],
       "layout": {
        "annotations": [
         {
          "font": {
           "size": 16
          },
          "showarrow": false,
          "text": "K-Means Clustering of Bird Personalities",
          "x": 0.225,
          "xanchor": "center",
          "xref": "paper",
          "y": 1,
          "yanchor": "bottom",
          "yref": "paper"
         },
         {
          "font": {
           "size": 16
          },
          "showarrow": false,
          "text": "K-Means Clustering of Bird Clusters",
          "x": 0.775,
          "xanchor": "center",
          "xref": "paper",
          "y": 1,
          "yanchor": "bottom",
          "yref": "paper"
         }
        ],
        "height": 600,
        "scene": {
         "domain": {
          "x": [
           0,
           0.45
          ],
          "y": [
           0,
           1
          ]
         },
         "xaxis": {
          "title": {
           "text": "Neophilia"
          }
         },
         "yaxis": {
          "title": {
           "text": "Aggression"
          }
         },
         "zaxis": {
          "title": {
           "text": "Exploration"
          }
         }
        },
        "scene2": {
         "domain": {
          "x": [
           0.55,
           1
          ],
          "y": [
           0,
           1
          ]
         },
         "xaxis": {
          "title": {
           "text": "Neophilia"
          }
         },
         "yaxis": {
          "title": {
           "text": "Aggression"
          }
         },
         "zaxis": {
          "title": {
           "text": "Exploration"
          }
         }
        },
        "template": {
         "data": {
          "bar": [
           {
            "error_x": {
             "color": "#2a3f5f"
            },
            "error_y": {
             "color": "#2a3f5f"
            },
            "marker": {
             "line": {
              "color": "#E5ECF6",
              "width": 0.5
             },
             "pattern": {
              "fillmode": "overlay",
              "size": 10,
              "solidity": 0.2
             }
            },
            "type": "bar"
           }
          ],
          "barpolar": [
           {
            "marker": {
             "line": {
              "color": "#E5ECF6",
              "width": 0.5
             },
             "pattern": {
              "fillmode": "overlay",
              "size": 10,
              "solidity": 0.2
             }
            },
            "type": "barpolar"
           }
          ],
          "carpet": [
           {
            "aaxis": {
             "endlinecolor": "#2a3f5f",
             "gridcolor": "white",
             "linecolor": "white",
             "minorgridcolor": "white",
             "startlinecolor": "#2a3f5f"
            },
            "baxis": {
             "endlinecolor": "#2a3f5f",
             "gridcolor": "white",
             "linecolor": "white",
             "minorgridcolor": "white",
             "startlinecolor": "#2a3f5f"
            },
            "type": "carpet"
           }
          ],
          "choropleth": [
           {
            "colorbar": {
             "outlinewidth": 0,
             "ticks": ""
            },
            "type": "choropleth"
           }
          ],
          "contour": [
           {
            "colorbar": {
             "outlinewidth": 0,
             "ticks": ""
            },
            "colorscale": [
             [
              0,
              "#0d0887"
             ],
             [
              0.1111111111111111,
              "#46039f"
             ],
             [
              0.2222222222222222,
              "#7201a8"
             ],
             [
              0.3333333333333333,
              "#9c179e"
             ],
             [
              0.4444444444444444,
              "#bd3786"
             ],
             [
              0.5555555555555556,
              "#d8576b"
             ],
             [
              0.6666666666666666,
              "#ed7953"
             ],
             [
              0.7777777777777778,
              "#fb9f3a"
             ],
             [
              0.8888888888888888,
              "#fdca26"
             ],
             [
              1,
              "#f0f921"
             ]
            ],
            "type": "contour"
           }
          ],
          "contourcarpet": [
           {
            "colorbar": {
             "outlinewidth": 0,
             "ticks": ""
            },
            "type": "contourcarpet"
           }
          ],
          "heatmap": [
           {
            "colorbar": {
             "outlinewidth": 0,
             "ticks": ""
            },
            "colorscale": [
             [
              0,
              "#0d0887"
             ],
             [
              0.1111111111111111,
              "#46039f"
             ],
             [
              0.2222222222222222,
              "#7201a8"
             ],
             [
              0.3333333333333333,
              "#9c179e"
             ],
             [
              0.4444444444444444,
              "#bd3786"
             ],
             [
              0.5555555555555556,
              "#d8576b"
             ],
             [
              0.6666666666666666,
              "#ed7953"
             ],
             [
              0.7777777777777778,
              "#fb9f3a"
             ],
             [
              0.8888888888888888,
              "#fdca26"
             ],
             [
              1,
              "#f0f921"
             ]
            ],
            "type": "heatmap"
           }
          ],
          "heatmapgl": [
           {
            "colorbar": {
             "outlinewidth": 0,
             "ticks": ""
            },
            "colorscale": [
             [
              0,
              "#0d0887"
             ],
             [
              0.1111111111111111,
              "#46039f"
             ],
             [
              0.2222222222222222,
              "#7201a8"
             ],
             [
              0.3333333333333333,
              "#9c179e"
             ],
             [
              0.4444444444444444,
              "#bd3786"
             ],
             [
              0.5555555555555556,
              "#d8576b"
             ],
             [
              0.6666666666666666,
              "#ed7953"
             ],
             [
              0.7777777777777778,
              "#fb9f3a"
             ],
             [
              0.8888888888888888,
              "#fdca26"
             ],
             [
              1,
              "#f0f921"
             ]
            ],
            "type": "heatmapgl"
           }
          ],
          "histogram": [
           {
            "marker": {
             "pattern": {
              "fillmode": "overlay",
              "size": 10,
              "solidity": 0.2
             }
            },
            "type": "histogram"
           }
          ],
          "histogram2d": [
           {
            "colorbar": {
             "outlinewidth": 0,
             "ticks": ""
            },
            "colorscale": [
             [
              0,
              "#0d0887"
             ],
             [
              0.1111111111111111,
              "#46039f"
             ],
             [
              0.2222222222222222,
              "#7201a8"
             ],
             [
              0.3333333333333333,
              "#9c179e"
             ],
             [
              0.4444444444444444,
              "#bd3786"
             ],
             [
              0.5555555555555556,
              "#d8576b"
             ],
             [
              0.6666666666666666,
              "#ed7953"
             ],
             [
              0.7777777777777778,
              "#fb9f3a"
             ],
             [
              0.8888888888888888,
              "#fdca26"
             ],
             [
              1,
              "#f0f921"
             ]
            ],
            "type": "histogram2d"
           }
          ],
          "histogram2dcontour": [
           {
            "colorbar": {
             "outlinewidth": 0,
             "ticks": ""
            },
            "colorscale": [
             [
              0,
              "#0d0887"
             ],
             [
              0.1111111111111111,
              "#46039f"
             ],
             [
              0.2222222222222222,
              "#7201a8"
             ],
             [
              0.3333333333333333,
              "#9c179e"
             ],
             [
              0.4444444444444444,
              "#bd3786"
             ],
             [
              0.5555555555555556,
              "#d8576b"
             ],
             [
              0.6666666666666666,
              "#ed7953"
             ],
             [
              0.7777777777777778,
              "#fb9f3a"
             ],
             [
              0.8888888888888888,
              "#fdca26"
             ],
             [
              1,
              "#f0f921"
             ]
            ],
            "type": "histogram2dcontour"
           }
          ],
          "mesh3d": [
           {
            "colorbar": {
             "outlinewidth": 0,
             "ticks": ""
            },
            "type": "mesh3d"
           }
          ],
          "parcoords": [
           {
            "line": {
             "colorbar": {
              "outlinewidth": 0,
              "ticks": ""
             }
            },
            "type": "parcoords"
           }
          ],
          "pie": [
           {
            "automargin": true,
            "type": "pie"
           }
          ],
          "scatter": [
           {
            "fillpattern": {
             "fillmode": "overlay",
             "size": 10,
             "solidity": 0.2
            },
            "type": "scatter"
           }
          ],
          "scatter3d": [
           {
            "line": {
             "colorbar": {
              "outlinewidth": 0,
              "ticks": ""
             }
            },
            "marker": {
             "colorbar": {
              "outlinewidth": 0,
              "ticks": ""
             }
            },
            "type": "scatter3d"
           }
          ],
          "scattercarpet": [
           {
            "marker": {
             "colorbar": {
              "outlinewidth": 0,
              "ticks": ""
             }
            },
            "type": "scattercarpet"
           }
          ],
          "scattergeo": [
           {
            "marker": {
             "colorbar": {
              "outlinewidth": 0,
              "ticks": ""
             }
            },
            "type": "scattergeo"
           }
          ],
          "scattergl": [
           {
            "marker": {
             "colorbar": {
              "outlinewidth": 0,
              "ticks": ""
             }
            },
            "type": "scattergl"
           }
          ],
          "scattermapbox": [
           {
            "marker": {
             "colorbar": {
              "outlinewidth": 0,
              "ticks": ""
             }
            },
            "type": "scattermapbox"
           }
          ],
          "scatterpolar": [
           {
            "marker": {
             "colorbar": {
              "outlinewidth": 0,
              "ticks": ""
             }
            },
            "type": "scatterpolar"
           }
          ],
          "scatterpolargl": [
           {
            "marker": {
             "colorbar": {
              "outlinewidth": 0,
              "ticks": ""
             }
            },
            "type": "scatterpolargl"
           }
          ],
          "scatterternary": [
           {
            "marker": {
             "colorbar": {
              "outlinewidth": 0,
              "ticks": ""
             }
            },
            "type": "scatterternary"
           }
          ],
          "surface": [
           {
            "colorbar": {
             "outlinewidth": 0,
             "ticks": ""
            },
            "colorscale": [
             [
              0,
              "#0d0887"
             ],
             [
              0.1111111111111111,
              "#46039f"
             ],
             [
              0.2222222222222222,
              "#7201a8"
             ],
             [
              0.3333333333333333,
              "#9c179e"
             ],
             [
              0.4444444444444444,
              "#bd3786"
             ],
             [
              0.5555555555555556,
              "#d8576b"
             ],
             [
              0.6666666666666666,
              "#ed7953"
             ],
             [
              0.7777777777777778,
              "#fb9f3a"
             ],
             [
              0.8888888888888888,
              "#fdca26"
             ],
             [
              1,
              "#f0f921"
             ]
            ],
            "type": "surface"
           }
          ],
          "table": [
           {
            "cells": {
             "fill": {
              "color": "#EBF0F8"
             },
             "line": {
              "color": "white"
             }
            },
            "header": {
             "fill": {
              "color": "#C8D4E3"
             },
             "line": {
              "color": "white"
             }
            },
            "type": "table"
           }
          ]
         },
         "layout": {
          "annotationdefaults": {
           "arrowcolor": "#2a3f5f",
           "arrowhead": 0,
           "arrowwidth": 1
          },
          "autotypenumbers": "strict",
          "coloraxis": {
           "colorbar": {
            "outlinewidth": 0,
            "ticks": ""
           }
          },
          "colorscale": {
           "diverging": [
            [
             0,
             "#8e0152"
            ],
            [
             0.1,
             "#c51b7d"
            ],
            [
             0.2,
             "#de77ae"
            ],
            [
             0.3,
             "#f1b6da"
            ],
            [
             0.4,
             "#fde0ef"
            ],
            [
             0.5,
             "#f7f7f7"
            ],
            [
             0.6,
             "#e6f5d0"
            ],
            [
             0.7,
             "#b8e186"
            ],
            [
             0.8,
             "#7fbc41"
            ],
            [
             0.9,
             "#4d9221"
            ],
            [
             1,
             "#276419"
            ]
           ],
           "sequential": [
            [
             0,
             "#0d0887"
            ],
            [
             0.1111111111111111,
             "#46039f"
            ],
            [
             0.2222222222222222,
             "#7201a8"
            ],
            [
             0.3333333333333333,
             "#9c179e"
            ],
            [
             0.4444444444444444,
             "#bd3786"
            ],
            [
             0.5555555555555556,
             "#d8576b"
            ],
            [
             0.6666666666666666,
             "#ed7953"
            ],
            [
             0.7777777777777778,
             "#fb9f3a"
            ],
            [
             0.8888888888888888,
             "#fdca26"
            ],
            [
             1,
             "#f0f921"
            ]
           ],
           "sequentialminus": [
            [
             0,
             "#0d0887"
            ],
            [
             0.1111111111111111,
             "#46039f"
            ],
            [
             0.2222222222222222,
             "#7201a8"
            ],
            [
             0.3333333333333333,
             "#9c179e"
            ],
            [
             0.4444444444444444,
             "#bd3786"
            ],
            [
             0.5555555555555556,
             "#d8576b"
            ],
            [
             0.6666666666666666,
             "#ed7953"
            ],
            [
             0.7777777777777778,
             "#fb9f3a"
            ],
            [
             0.8888888888888888,
             "#fdca26"
            ],
            [
             1,
             "#f0f921"
            ]
           ]
          },
          "colorway": [
           "#636efa",
           "#EF553B",
           "#00cc96",
           "#ab63fa",
           "#FFA15A",
           "#19d3f3",
           "#FF6692",
           "#B6E880",
           "#FF97FF",
           "#FECB52"
          ],
          "font": {
           "color": "#2a3f5f"
          },
          "geo": {
           "bgcolor": "white",
           "lakecolor": "white",
           "landcolor": "#E5ECF6",
           "showlakes": true,
           "showland": true,
           "subunitcolor": "white"
          },
          "hoverlabel": {
           "align": "left"
          },
          "hovermode": "closest",
          "mapbox": {
           "style": "light"
          },
          "paper_bgcolor": "white",
          "plot_bgcolor": "#E5ECF6",
          "polar": {
           "angularaxis": {
            "gridcolor": "white",
            "linecolor": "white",
            "ticks": ""
           },
           "bgcolor": "#E5ECF6",
           "radialaxis": {
            "gridcolor": "white",
            "linecolor": "white",
            "ticks": ""
           }
          },
          "scene": {
           "xaxis": {
            "backgroundcolor": "#E5ECF6",
            "gridcolor": "white",
            "gridwidth": 2,
            "linecolor": "white",
            "showbackground": true,
            "ticks": "",
            "zerolinecolor": "white"
           },
           "yaxis": {
            "backgroundcolor": "#E5ECF6",
            "gridcolor": "white",
            "gridwidth": 2,
            "linecolor": "white",
            "showbackground": true,
            "ticks": "",
            "zerolinecolor": "white"
           },
           "zaxis": {
            "backgroundcolor": "#E5ECF6",
            "gridcolor": "white",
            "gridwidth": 2,
            "linecolor": "white",
            "showbackground": true,
            "ticks": "",
            "zerolinecolor": "white"
           }
          },
          "shapedefaults": {
           "line": {
            "color": "#2a3f5f"
           }
          },
          "ternary": {
           "aaxis": {
            "gridcolor": "white",
            "linecolor": "white",
            "ticks": ""
           },
           "baxis": {
            "gridcolor": "white",
            "linecolor": "white",
            "ticks": ""
           },
           "bgcolor": "#E5ECF6",
           "caxis": {
            "gridcolor": "white",
            "linecolor": "white",
            "ticks": ""
           }
          },
          "title": {
           "x": 0.05
          },
          "xaxis": {
           "automargin": true,
           "gridcolor": "white",
           "linecolor": "white",
           "ticks": "",
           "title": {
            "standoff": 15
           },
           "zerolinecolor": "white",
           "zerolinewidth": 2
          },
          "yaxis": {
           "automargin": true,
           "gridcolor": "white",
           "linecolor": "white",
           "ticks": "",
           "title": {
            "standoff": 15
           },
           "zerolinecolor": "white",
           "zerolinewidth": 2
          }
         }
        },
        "title": {
         "text": "3D PCA Comparison of Personalities and Clusters",
         "x": 0.5
        },
        "width": 1200
       }
      }
     },
     "metadata": {},
     "output_type": "display_data"
    }
   ],
   "source": [
    "# Assuming X is your DataFrame with columns ['Neophilia', 'Aggression', 'Exploration', 'Personality', 'Cluster']\n",
    "\n",
    "# Create a 3D scatter plot for Personality\n",
    "fig1 = px.scatter_3d(X, x='Neophilia', y='Aggression', z='Exploration', color='Personality',\n",
    "                     color_discrete_sequence=px.colors.qualitative.Dark24, size_max=10)\n",
    "fig1.update_traces(marker=dict(size=5))\n",
    "\n",
    "# Create a 3D scatter plot for Cluster\n",
    "fig2 = px.scatter_3d(X, x='Neophilia', y='Aggression', z='Exploration', color='Cluster',\n",
    "                     color_discrete_sequence=px.colors.qualitative.Dark24, size_max=10)\n",
    "fig2.update_traces(marker=dict(size=5))\n",
    "\n",
    "# Customize layout for subplots\n",
    "fig = make_subplots(rows=1, cols=2, \n",
    "                    specs=[[{'type': 'scatter3d'}, {'type': 'scatter3d'}]], \n",
    "                    subplot_titles=(\"K-Means Clustering of Bird Personalities\", \n",
    "                                    \"K-Means Clustering of Bird Clusters\"))\n",
    "\n",
    "# Add first plot to the subplot\n",
    "fig.add_traces(fig1.data, rows=1, cols=1)\n",
    "\n",
    "# Add second plot to the subplot\n",
    "fig.add_traces(fig2.data, rows=1, cols=2)\n",
    "\n",
    "# Update layout\n",
    "fig.update_layout(scene=dict(\n",
    "                        xaxis_title='Neophilia',\n",
    "                        yaxis_title='Aggression',\n",
    "                        zaxis_title='Exploration'),\n",
    "                  scene2=dict(\n",
    "                        xaxis_title='Neophilia',\n",
    "                        yaxis_title='Aggression',\n",
    "                        zaxis_title='Exploration'),\n",
    "                  height=600, width=1200, title_text=\"3D PCA Comparison of Personalities and Clusters\", \n",
    "                  title_x=0.5)\n",
    "\n",
    "# Show the plot\n",
    "fig.show()"
   ]
  },
  {
   "cell_type": "code",
   "execution_count": 6,
   "metadata": {},
   "outputs": [
    {
     "name": "stdout",
     "output_type": "stream",
     "text": [
      "Explained variance ratio by each component:\n",
      "PC1: 27.59%\n",
      "PC2: 26.89%\n",
      "PC3: 20.50%\n",
      "PC4: 13.32%\n",
      "PC5: 11.70%\n",
      "\n",
      "Total number of components used to capture 90% of the variance: 5\n"
     ]
    }
   ],
   "source": [
    "# Perform PCA to capture 90% of the variance\n",
    "pca = PCA(n_components=0.90)  # Automatically chooses the number of components to capture 90% variance\n",
    "X_pca = pca.fit_transform(X_train)\n",
    "\n",
    "# Create a dataframe for the PCA results\n",
    "pca_df = pd.DataFrame(data=X_pca, columns=[f'PC{i+1}' for i in range(pca.n_components_)])\n",
    "pca_df['Personality'] = X['Personality']\n",
    "pca_df['Cluster'] = X['Cluster']  # Add the original personality labels\n",
    "\n",
    "# Create a dataframe for the PCA loadings (how much each feature contributes to each PC)\n",
    "loadings_df = pd.DataFrame(pca.components_.T, columns=[f'PC{i+1}' for i in range(pca.n_components_)], index=X_train.columns)\n",
    "\n",
    "# Print the explained variance ratio for each component\n",
    "print(\"Explained variance ratio by each component:\")\n",
    "for i, ratio in enumerate(pca.explained_variance_ratio_, 1):\n",
    "    print(f\"PC{i}: {ratio:.2%}\")\n",
    "\n",
    "# Print the total number of components used\n",
    "print(f\"\\nTotal number of components used to capture 90% of the variance: {pca.n_components_}\")"
   ]
  },
  {
   "cell_type": "code",
   "execution_count": 7,
   "metadata": {},
   "outputs": [
    {
     "data": {
      "text/html": [
       "<div>\n",
       "<style scoped>\n",
       "    .dataframe tbody tr th:only-of-type {\n",
       "        vertical-align: middle;\n",
       "    }\n",
       "\n",
       "    .dataframe tbody tr th {\n",
       "        vertical-align: top;\n",
       "    }\n",
       "\n",
       "    .dataframe thead th {\n",
       "        text-align: right;\n",
       "    }\n",
       "</style>\n",
       "<table border=\"1\" class=\"dataframe\">\n",
       "  <thead>\n",
       "    <tr style=\"text-align: right;\">\n",
       "      <th></th>\n",
       "      <th>PC1</th>\n",
       "      <th>PC2</th>\n",
       "      <th>PC3</th>\n",
       "      <th>PC4</th>\n",
       "      <th>PC5</th>\n",
       "    </tr>\n",
       "  </thead>\n",
       "  <tbody>\n",
       "    <tr>\n",
       "      <th>Exploration</th>\n",
       "      <td>-0.288984</td>\n",
       "      <td>-0.435583</td>\n",
       "      <td>0.649387</td>\n",
       "      <td>-0.484298</td>\n",
       "      <td>0.265532</td>\n",
       "    </tr>\n",
       "    <tr>\n",
       "      <th>Neophobia</th>\n",
       "      <td>0.138574</td>\n",
       "      <td>-0.559918</td>\n",
       "      <td>-0.566097</td>\n",
       "      <td>-0.504625</td>\n",
       "      <td>-0.303606</td>\n",
       "    </tr>\n",
       "    <tr>\n",
       "      <th>Neophilia</th>\n",
       "      <td>0.711646</td>\n",
       "      <td>-0.120649</td>\n",
       "      <td>-0.059768</td>\n",
       "      <td>-0.018357</td>\n",
       "      <td>0.689271</td>\n",
       "    </tr>\n",
       "    <tr>\n",
       "      <th>Aggression</th>\n",
       "      <td>-0.612651</td>\n",
       "      <td>0.078890</td>\n",
       "      <td>-0.504235</td>\n",
       "      <td>-0.051850</td>\n",
       "      <td>0.601244</td>\n",
       "    </tr>\n",
       "    <tr>\n",
       "      <th>Boldness</th>\n",
       "      <td>0.124516</td>\n",
       "      <td>0.689913</td>\n",
       "      <td>-0.002229</td>\n",
       "      <td>-0.712590</td>\n",
       "      <td>-0.026968</td>\n",
       "    </tr>\n",
       "  </tbody>\n",
       "</table>\n",
       "</div>"
      ],
      "text/plain": [
       "                  PC1       PC2       PC3       PC4       PC5\n",
       "Exploration -0.288984 -0.435583  0.649387 -0.484298  0.265532\n",
       "Neophobia    0.138574 -0.559918 -0.566097 -0.504625 -0.303606\n",
       "Neophilia    0.711646 -0.120649 -0.059768 -0.018357  0.689271\n",
       "Aggression  -0.612651  0.078890 -0.504235 -0.051850  0.601244\n",
       "Boldness     0.124516  0.689913 -0.002229 -0.712590 -0.026968"
      ]
     },
     "execution_count": 7,
     "metadata": {},
     "output_type": "execute_result"
    }
   ],
   "source": [
    "loadings_df"
   ]
  },
  {
   "cell_type": "code",
   "execution_count": 8,
   "metadata": {},
   "outputs": [
    {
     "data": {
      "text/html": [
       "<div>\n",
       "<style scoped>\n",
       "    .dataframe tbody tr th:only-of-type {\n",
       "        vertical-align: middle;\n",
       "    }\n",
       "\n",
       "    .dataframe tbody tr th {\n",
       "        vertical-align: top;\n",
       "    }\n",
       "\n",
       "    .dataframe thead th {\n",
       "        text-align: right;\n",
       "    }\n",
       "</style>\n",
       "<table border=\"1\" class=\"dataframe\">\n",
       "  <thead>\n",
       "    <tr style=\"text-align: right;\">\n",
       "      <th></th>\n",
       "      <th>PC1</th>\n",
       "      <th>PC2</th>\n",
       "      <th>PC3</th>\n",
       "      <th>PC4</th>\n",
       "      <th>PC5</th>\n",
       "      <th>Personality</th>\n",
       "      <th>Cluster</th>\n",
       "    </tr>\n",
       "  </thead>\n",
       "  <tbody>\n",
       "    <tr>\n",
       "      <th>0</th>\n",
       "      <td>0.165728</td>\n",
       "      <td>-2.420358</td>\n",
       "      <td>-0.751856</td>\n",
       "      <td>-0.431856</td>\n",
       "      <td>0.538487</td>\n",
       "      <td>Angry Bird</td>\n",
       "      <td>1</td>\n",
       "    </tr>\n",
       "    <tr>\n",
       "      <th>1</th>\n",
       "      <td>-1.474692</td>\n",
       "      <td>0.614668</td>\n",
       "      <td>0.976158</td>\n",
       "      <td>-1.197285</td>\n",
       "      <td>0.342291</td>\n",
       "      <td>Angry Bird</td>\n",
       "      <td>0</td>\n",
       "    </tr>\n",
       "    <tr>\n",
       "      <th>2</th>\n",
       "      <td>0.739592</td>\n",
       "      <td>-1.124353</td>\n",
       "      <td>2.235164</td>\n",
       "      <td>-0.691043</td>\n",
       "      <td>-0.430027</td>\n",
       "      <td>A Pretty Chill Bird</td>\n",
       "      <td>2</td>\n",
       "    </tr>\n",
       "    <tr>\n",
       "      <th>3</th>\n",
       "      <td>0.143447</td>\n",
       "      <td>1.002813</td>\n",
       "      <td>0.311339</td>\n",
       "      <td>-0.533118</td>\n",
       "      <td>0.300920</td>\n",
       "      <td>Standard Bird</td>\n",
       "      <td>0</td>\n",
       "    </tr>\n",
       "    <tr>\n",
       "      <th>4</th>\n",
       "      <td>0.211404</td>\n",
       "      <td>0.673268</td>\n",
       "      <td>-0.651766</td>\n",
       "      <td>-0.069133</td>\n",
       "      <td>-0.820374</td>\n",
       "      <td>A Pretty Chill Bird</td>\n",
       "      <td>0</td>\n",
       "    </tr>\n",
       "    <tr>\n",
       "      <th>...</th>\n",
       "      <td>...</td>\n",
       "      <td>...</td>\n",
       "      <td>...</td>\n",
       "      <td>...</td>\n",
       "      <td>...</td>\n",
       "      <td>...</td>\n",
       "      <td>...</td>\n",
       "    </tr>\n",
       "    <tr>\n",
       "      <th>62</th>\n",
       "      <td>-1.096202</td>\n",
       "      <td>0.395496</td>\n",
       "      <td>-0.424508</td>\n",
       "      <td>1.220138</td>\n",
       "      <td>-0.700378</td>\n",
       "      <td>A Pretty Chill Bird</td>\n",
       "      <td>0</td>\n",
       "    </tr>\n",
       "    <tr>\n",
       "      <th>63</th>\n",
       "      <td>0.857664</td>\n",
       "      <td>-1.344363</td>\n",
       "      <td>-1.549653</td>\n",
       "      <td>-0.617579</td>\n",
       "      <td>0.610144</td>\n",
       "      <td>Standard Bird</td>\n",
       "      <td>1</td>\n",
       "    </tr>\n",
       "    <tr>\n",
       "      <th>64</th>\n",
       "      <td>-1.259854</td>\n",
       "      <td>-1.795303</td>\n",
       "      <td>-0.706132</td>\n",
       "      <td>0.167706</td>\n",
       "      <td>-0.832656</td>\n",
       "      <td>Standard Bird</td>\n",
       "      <td>1</td>\n",
       "    </tr>\n",
       "    <tr>\n",
       "      <th>65</th>\n",
       "      <td>1.022447</td>\n",
       "      <td>-0.675036</td>\n",
       "      <td>0.758274</td>\n",
       "      <td>0.836553</td>\n",
       "      <td>-1.307622</td>\n",
       "      <td>A Pretty Chill Bird</td>\n",
       "      <td>2</td>\n",
       "    </tr>\n",
       "    <tr>\n",
       "      <th>66</th>\n",
       "      <td>-1.919198</td>\n",
       "      <td>-0.563877</td>\n",
       "      <td>1.117688</td>\n",
       "      <td>-0.166552</td>\n",
       "      <td>0.067655</td>\n",
       "      <td>A Pretty Chill Bird</td>\n",
       "      <td>1</td>\n",
       "    </tr>\n",
       "  </tbody>\n",
       "</table>\n",
       "<p>67 rows × 7 columns</p>\n",
       "</div>"
      ],
      "text/plain": [
       "         PC1       PC2       PC3       PC4       PC5          Personality  \\\n",
       "0   0.165728 -2.420358 -0.751856 -0.431856  0.538487           Angry Bird   \n",
       "1  -1.474692  0.614668  0.976158 -1.197285  0.342291           Angry Bird   \n",
       "2   0.739592 -1.124353  2.235164 -0.691043 -0.430027  A Pretty Chill Bird   \n",
       "3   0.143447  1.002813  0.311339 -0.533118  0.300920        Standard Bird   \n",
       "4   0.211404  0.673268 -0.651766 -0.069133 -0.820374  A Pretty Chill Bird   \n",
       "..       ...       ...       ...       ...       ...                  ...   \n",
       "62 -1.096202  0.395496 -0.424508  1.220138 -0.700378  A Pretty Chill Bird   \n",
       "63  0.857664 -1.344363 -1.549653 -0.617579  0.610144        Standard Bird   \n",
       "64 -1.259854 -1.795303 -0.706132  0.167706 -0.832656        Standard Bird   \n",
       "65  1.022447 -0.675036  0.758274  0.836553 -1.307622  A Pretty Chill Bird   \n",
       "66 -1.919198 -0.563877  1.117688 -0.166552  0.067655  A Pretty Chill Bird   \n",
       "\n",
       "    Cluster  \n",
       "0         1  \n",
       "1         0  \n",
       "2         2  \n",
       "3         0  \n",
       "4         0  \n",
       "..      ...  \n",
       "62        0  \n",
       "63        1  \n",
       "64        1  \n",
       "65        2  \n",
       "66        1  \n",
       "\n",
       "[67 rows x 7 columns]"
      ]
     },
     "execution_count": 8,
     "metadata": {},
     "output_type": "execute_result"
    }
   ],
   "source": [
    "pca_df"
   ]
  },
  {
   "cell_type": "code",
   "execution_count": 9,
   "metadata": {},
   "outputs": [],
   "source": [
    "pca_df.to_csv('pca_df.csv',index=False)"
   ]
  },
  {
   "cell_type": "code",
   "execution_count": 10,
   "metadata": {},
   "outputs": [
    {
     "data": {
      "application/vnd.plotly.v1+json": {
       "config": {
        "plotlyServerURL": "https://plot.ly"
       },
       "data": [
        {
         "hovertemplate": "PC1=%{x}<br>PC2=%{y}<br>PC3=%{z}<br>Cluster=%{marker.color}<extra></extra>",
         "legendgroup": "",
         "marker": {
          "color": [
           1,
           0,
           2,
           0,
           0,
           1,
           2,
           2,
           0,
           0,
           0,
           1,
           1,
           0,
           2,
           0,
           0,
           0,
           2,
           1,
           0,
           0,
           0,
           1,
           0,
           1,
           1,
           1,
           0,
           0,
           1,
           0,
           2,
           1,
           1,
           2,
           1,
           0,
           2,
           1,
           2,
           2,
           1,
           0,
           1,
           2,
           0,
           0,
           1,
           0,
           2,
           0,
           0,
           2,
           0,
           1,
           0,
           1,
           1,
           0,
           1,
           0,
           0,
           1,
           1,
           2,
           1
          ],
          "coloraxis": "coloraxis",
          "size": 5,
          "symbol": "circle"
         },
         "mode": "markers",
         "name": "",
         "scene": "scene",
         "showlegend": false,
         "type": "scatter3d",
         "x": [
          0.16572755371430725,
          -1.474691999843945,
          0.7395924992356813,
          0.14344712824269745,
          0.21140448858346342,
          -0.8301248370847437,
          0.8361017516724994,
          1.6970848225117248,
          0.5499702877938879,
          -0.3635842195386787,
          0.3830136589763866,
          -1.632682238768112,
          -0.17374111774861284,
          0.8312109132059365,
          0.48651478702554674,
          -0.9602311222515069,
          -1.0905729786935336,
          -0.7261792114153739,
          2.5962752662650943,
          -1.004809312697646,
          -1.0345323432795128,
          0.8645523054830351,
          0.3616291659253284,
          -0.9091201101538255,
          -0.699438451608554,
          -0.021655377854209377,
          0.5872291679863626,
          -0.5753728757148953,
          -0.016634242308120176,
          0.5980320865582985,
          -0.546697366688634,
          -0.7289426446281125,
          1.4721865136376113,
          -1.759750089708499,
          -0.2410090976560679,
          2.9047997504285803,
          -0.36502908321879085,
          -0.45336176320238913,
          3.0961717468397665,
          0.38667883736020775,
          0.2542701750685344,
          1.3960963046335493,
          -0.3032329509884778,
          0.42824011270427553,
          -0.1326688377916693,
          3.728672552424039,
          -0.6204778297702086,
          -0.5193428225525442,
          -0.7496248055821105,
          -0.4824456535267208,
          1.976828626661226,
          -0.9387776284301743,
          0.7532034988002966,
          0.9400608858238725,
          -0.7700778219957927,
          -0.4850873085248896,
          -1.640872998285657,
          0.137921867706659,
          -1.5117740188440523,
          -0.42839992376610037,
          -0.5452448611817962,
          -1.3955863101388797,
          -1.0962020095022387,
          0.8576643235340071,
          -1.2598540219856713,
          1.022447170784266,
          -1.9191979626563933
         ],
         "y": [
          -2.420358140380785,
          0.6146677859469051,
          -1.1243528437783905,
          1.0028131518437429,
          0.6732679844897296,
          -0.48176996090849844,
          -0.10271086407660118,
          0.8386649362950135,
          1.0575122098940293,
          0.9334977458782414,
          1.2231530160779338,
          -1.1363172812236728,
          -0.8864651422786627,
          2.767576035304123,
          -0.08287125102436582,
          0.929892844981995,
          1.381136129164084,
          1.2032887775708512,
          0.6038035706331589,
          -1.8746953782280247,
          0.4389427951168297,
          1.0146011985859271,
          0.2819663547750753,
          -2.2722905245540694,
          1.7132847782746075,
          -1.3874618252775384,
          -2.404349958849721,
          -1.9372683520996277,
          1.5808611043982619,
          0.042313912487654884,
          -0.45332705201981033,
          1.7294139547753447,
          0.09759161206743545,
          -0.18037461020934947,
          -1.3588234022371846,
          -1.5043384994055145,
          -0.661532239415894,
          0.7164495444078719,
          -0.37071169473499316,
          -1.223791566145473,
          -1.1975686099342955,
          0.11540367422661736,
          -0.14225150397038755,
          -0.0445385961266827,
          -0.3402012399944436,
          -0.2229124870443115,
          0.6673911156300192,
          0.4503664923934036,
          -0.9057132747422993,
          1.436150055729403,
          1.0601446541209398,
          1.3792154237539365,
          -0.29836258245209013,
          1.2490108151592114,
          1.2478636789457689,
          -0.6506272455246263,
          0.2253882446081676,
          -0.12575420780764515,
          -1.5081864827528306,
          1.5136102510782208,
          -0.22553201372936785,
          1.319298175706754,
          0.395495950356407,
          -1.3443627904591766,
          -1.7953026662704306,
          -0.6750364124838203,
          -0.5638772745370804
         ],
         "z": [
          -0.7518564870121635,
          0.9761575460626933,
          2.235163720076973,
          0.31133912206623243,
          -0.6517660831903636,
          0.5346183663715094,
          -0.047544530700625344,
          0.8434725610344475,
          -0.1065385691591299,
          0.5882876541020957,
          -0.8835041689095582,
          0.27630887948165245,
          -0.16363600823879018,
          0.7187555835978492,
          0.6091417921429877,
          1.308246415197366,
          -0.3682803971603114,
          -0.12984231860571274,
          0.36471624013601145,
          2.2971989800868653,
          1.8806441436446437,
          0.13636938503720067,
          -0.632970626773959,
          -0.6711181371138345,
          -0.7957413999738326,
          -1.4983168437542813,
          -0.47577278405447615,
          -0.9602217822348478,
          -0.4024622570951652,
          -1.5812154619249068,
          -2.040419845994652,
          -0.8779570074466735,
          1.6307620998139296,
          -0.22178030750163655,
          -1.415285978838259,
          -0.5841705217554544,
          0.5535503138169114,
          -0.5046266425892328,
          0.3939251127080039,
          -0.32872137775458327,
          2.608764638732653,
          2.1712099749921574,
          -0.5741936294895646,
          -0.630776096255356,
          0.6776208295960329,
          -1.0584330224949594,
          0.6561724650929313,
          -0.9703250134010316,
          0.3553866963551854,
          -0.8752014269126797,
          0.4023409273237227,
          -0.69691352413142,
          -1.4056663509558474,
          0.8798281680594481,
          -0.8218621839948019,
          0.6889586501974653,
          -0.31128749346641765,
          -0.6261727648494216,
          1.4090240961497296,
          -0.2620386450995828,
          -0.4577375796799413,
          0.08072468295060028,
          -0.4245084301613425,
          -1.5496529985030087,
          -0.7061318483128739,
          0.7582738495096555,
          1.1176876511537452
         ]
        },
        {
         "hovertemplate": "Personality=Angry Bird<br>PC1=%{x}<br>PC2=%{y}<br>PC3=%{z}<extra></extra>",
         "legendgroup": "Angry Bird",
         "marker": {
          "color": "#2E91E5",
          "size": 5,
          "symbol": "circle"
         },
         "mode": "markers",
         "name": "Angry Bird",
         "scene": "scene2",
         "showlegend": true,
         "type": "scatter3d",
         "x": [
          0.16572755371430725,
          -1.474691999843945,
          -1.0905729786935336,
          -0.7261792114153739,
          -0.9091201101538255,
          -0.699438451608554,
          -0.5753728757148953,
          -0.546697366688634,
          -0.7289426446281125,
          -1.759750089708499,
          -0.2410090976560679,
          -0.45336176320238913,
          -0.5193428225525442,
          -0.4824456535267208,
          -0.9387776284301743,
          0.7532034988002966,
          -0.7700778219957927,
          -1.640872998285657,
          -1.5117740188440523,
          -0.5452448611817962
         ],
         "y": [
          -2.420358140380785,
          0.6146677859469051,
          1.381136129164084,
          1.2032887775708512,
          -2.2722905245540694,
          1.7132847782746075,
          -1.9372683520996277,
          -0.45332705201981033,
          1.7294139547753447,
          -0.18037461020934947,
          -1.3588234022371846,
          0.7164495444078719,
          0.4503664923934036,
          1.436150055729403,
          1.3792154237539365,
          -0.29836258245209013,
          1.2478636789457689,
          0.2253882446081676,
          -1.5081864827528306,
          -0.22553201372936785
         ],
         "z": [
          -0.7518564870121635,
          0.9761575460626933,
          -0.3682803971603114,
          -0.12984231860571274,
          -0.6711181371138345,
          -0.7957413999738326,
          -0.9602217822348478,
          -2.040419845994652,
          -0.8779570074466735,
          -0.22178030750163655,
          -1.415285978838259,
          -0.5046266425892328,
          -0.9703250134010316,
          -0.8752014269126797,
          -0.69691352413142,
          -1.4056663509558474,
          -0.8218621839948019,
          -0.31128749346641765,
          1.4090240961497296,
          -0.4577375796799413
         ]
        },
        {
         "hovertemplate": "Personality=A Pretty Chill Bird<br>PC1=%{x}<br>PC2=%{y}<br>PC3=%{z}<extra></extra>",
         "legendgroup": "A Pretty Chill Bird",
         "marker": {
          "color": "#E15F99",
          "size": 5,
          "symbol": "circle"
         },
         "mode": "markers",
         "name": "A Pretty Chill Bird",
         "scene": "scene2",
         "showlegend": true,
         "type": "scatter3d",
         "x": [
          0.7395924992356813,
          0.21140448858346342,
          -0.8301248370847437,
          0.8361017516724994,
          1.6970848225117248,
          2.5962752662650943,
          -1.004809312697646,
          2.9047997504285803,
          -0.36502908321879085,
          3.0961717468397665,
          0.2542701750685344,
          1.3960963046335493,
          3.728672552424039,
          -0.6204778297702086,
          1.976828626661226,
          -1.3955863101388797,
          -1.0962020095022387,
          1.022447170784266,
          -1.9191979626563933
         ],
         "y": [
          -1.1243528437783905,
          0.6732679844897296,
          -0.48176996090849844,
          -0.10271086407660118,
          0.8386649362950135,
          0.6038035706331589,
          -1.8746953782280247,
          -1.5043384994055145,
          -0.661532239415894,
          -0.37071169473499316,
          -1.1975686099342955,
          0.11540367422661736,
          -0.2229124870443115,
          0.6673911156300192,
          1.0601446541209398,
          1.319298175706754,
          0.395495950356407,
          -0.6750364124838203,
          -0.5638772745370804
         ],
         "z": [
          2.235163720076973,
          -0.6517660831903636,
          0.5346183663715094,
          -0.047544530700625344,
          0.8434725610344475,
          0.36471624013601145,
          2.2971989800868653,
          -0.5841705217554544,
          0.5535503138169114,
          0.3939251127080039,
          2.608764638732653,
          2.1712099749921574,
          -1.0584330224949594,
          0.6561724650929313,
          0.4023409273237227,
          0.08072468295060028,
          -0.4245084301613425,
          0.7582738495096555,
          1.1176876511537452
         ]
        },
        {
         "hovertemplate": "Personality=Standard Bird<br>PC1=%{x}<br>PC2=%{y}<br>PC3=%{z}<extra></extra>",
         "legendgroup": "Standard Bird",
         "marker": {
          "color": "#1CA71C",
          "size": 5,
          "symbol": "circle"
         },
         "mode": "markers",
         "name": "Standard Bird",
         "scene": "scene2",
         "showlegend": true,
         "type": "scatter3d",
         "x": [
          0.14344712824269745,
          0.5499702877938879,
          -0.3635842195386787,
          0.3830136589763866,
          -1.632682238768112,
          -0.17374111774861284,
          0.8312109132059365,
          0.48651478702554674,
          -0.9602311222515069,
          -1.0345323432795128,
          0.8645523054830351,
          0.3616291659253284,
          -0.021655377854209377,
          0.5872291679863626,
          -0.016634242308120176,
          0.5980320865582985,
          1.4721865136376113,
          0.38667883736020775,
          -0.3032329509884778,
          0.42824011270427553,
          -0.1326688377916693,
          -0.7496248055821105,
          0.9400608858238725,
          -0.4850873085248896,
          0.137921867706659,
          -0.42839992376610037,
          0.8576643235340071,
          -1.2598540219856713
         ],
         "y": [
          1.0028131518437429,
          1.0575122098940293,
          0.9334977458782414,
          1.2231530160779338,
          -1.1363172812236728,
          -0.8864651422786627,
          2.767576035304123,
          -0.08287125102436582,
          0.929892844981995,
          0.4389427951168297,
          1.0146011985859271,
          0.2819663547750753,
          -1.3874618252775384,
          -2.404349958849721,
          1.5808611043982619,
          0.042313912487654884,
          0.09759161206743545,
          -1.223791566145473,
          -0.14225150397038755,
          -0.0445385961266827,
          -0.3402012399944436,
          -0.9057132747422993,
          1.2490108151592114,
          -0.6506272455246263,
          -0.12575420780764515,
          1.5136102510782208,
          -1.3443627904591766,
          -1.7953026662704306
         ],
         "z": [
          0.31133912206623243,
          -0.1065385691591299,
          0.5882876541020957,
          -0.8835041689095582,
          0.27630887948165245,
          -0.16363600823879018,
          0.7187555835978492,
          0.6091417921429877,
          1.308246415197366,
          1.8806441436446437,
          0.13636938503720067,
          -0.632970626773959,
          -1.4983168437542813,
          -0.47577278405447615,
          -0.4024622570951652,
          -1.5812154619249068,
          1.6307620998139296,
          -0.32872137775458327,
          -0.5741936294895646,
          -0.630776096255356,
          0.6776208295960329,
          0.3553866963551854,
          0.8798281680594481,
          0.6889586501974653,
          -0.6261727648494216,
          -0.2620386450995828,
          -1.5496529985030087,
          -0.7061318483128739
         ]
        }
       ],
       "layout": {
        "annotations": [
         {
          "font": {
           "size": 16
          },
          "showarrow": false,
          "text": "PC1 vs PC2 (Explained Variance: 27.59%, 26.89%) - Cluster",
          "x": 0.225,
          "xanchor": "center",
          "xref": "paper",
          "y": 1,
          "yanchor": "bottom",
          "yref": "paper"
         },
         {
          "font": {
           "size": 16
          },
          "showarrow": false,
          "text": "PC1 vs PC2 (Explained Variance: 27.59%, 26.89%) - Personality",
          "x": 0.775,
          "xanchor": "center",
          "xref": "paper",
          "y": 1,
          "yanchor": "bottom",
          "yref": "paper"
         }
        ],
        "height": 600,
        "scene": {
         "domain": {
          "x": [
           0,
           0.45
          ],
          "y": [
           0,
           1
          ]
         },
         "xaxis": {
          "title": {
           "text": "PC1 (27.59% Variance)"
          }
         },
         "yaxis": {
          "title": {
           "text": "PC2 (26.89% Variance)"
          }
         },
         "zaxis": {
          "title": {
           "text": "PC3 (20.50% Variance)"
          }
         }
        },
        "scene2": {
         "domain": {
          "x": [
           0.55,
           1
          ],
          "y": [
           0,
           1
          ]
         },
         "xaxis": {
          "title": {
           "text": "PC1 (27.59% Variance)"
          }
         },
         "yaxis": {
          "title": {
           "text": "PC2 (26.89% Variance)"
          }
         },
         "zaxis": {
          "title": {
           "text": "PC3 (20.50% Variance)"
          }
         }
        },
        "template": {
         "data": {
          "bar": [
           {
            "error_x": {
             "color": "#2a3f5f"
            },
            "error_y": {
             "color": "#2a3f5f"
            },
            "marker": {
             "line": {
              "color": "#E5ECF6",
              "width": 0.5
             },
             "pattern": {
              "fillmode": "overlay",
              "size": 10,
              "solidity": 0.2
             }
            },
            "type": "bar"
           }
          ],
          "barpolar": [
           {
            "marker": {
             "line": {
              "color": "#E5ECF6",
              "width": 0.5
             },
             "pattern": {
              "fillmode": "overlay",
              "size": 10,
              "solidity": 0.2
             }
            },
            "type": "barpolar"
           }
          ],
          "carpet": [
           {
            "aaxis": {
             "endlinecolor": "#2a3f5f",
             "gridcolor": "white",
             "linecolor": "white",
             "minorgridcolor": "white",
             "startlinecolor": "#2a3f5f"
            },
            "baxis": {
             "endlinecolor": "#2a3f5f",
             "gridcolor": "white",
             "linecolor": "white",
             "minorgridcolor": "white",
             "startlinecolor": "#2a3f5f"
            },
            "type": "carpet"
           }
          ],
          "choropleth": [
           {
            "colorbar": {
             "outlinewidth": 0,
             "ticks": ""
            },
            "type": "choropleth"
           }
          ],
          "contour": [
           {
            "colorbar": {
             "outlinewidth": 0,
             "ticks": ""
            },
            "colorscale": [
             [
              0,
              "#0d0887"
             ],
             [
              0.1111111111111111,
              "#46039f"
             ],
             [
              0.2222222222222222,
              "#7201a8"
             ],
             [
              0.3333333333333333,
              "#9c179e"
             ],
             [
              0.4444444444444444,
              "#bd3786"
             ],
             [
              0.5555555555555556,
              "#d8576b"
             ],
             [
              0.6666666666666666,
              "#ed7953"
             ],
             [
              0.7777777777777778,
              "#fb9f3a"
             ],
             [
              0.8888888888888888,
              "#fdca26"
             ],
             [
              1,
              "#f0f921"
             ]
            ],
            "type": "contour"
           }
          ],
          "contourcarpet": [
           {
            "colorbar": {
             "outlinewidth": 0,
             "ticks": ""
            },
            "type": "contourcarpet"
           }
          ],
          "heatmap": [
           {
            "colorbar": {
             "outlinewidth": 0,
             "ticks": ""
            },
            "colorscale": [
             [
              0,
              "#0d0887"
             ],
             [
              0.1111111111111111,
              "#46039f"
             ],
             [
              0.2222222222222222,
              "#7201a8"
             ],
             [
              0.3333333333333333,
              "#9c179e"
             ],
             [
              0.4444444444444444,
              "#bd3786"
             ],
             [
              0.5555555555555556,
              "#d8576b"
             ],
             [
              0.6666666666666666,
              "#ed7953"
             ],
             [
              0.7777777777777778,
              "#fb9f3a"
             ],
             [
              0.8888888888888888,
              "#fdca26"
             ],
             [
              1,
              "#f0f921"
             ]
            ],
            "type": "heatmap"
           }
          ],
          "heatmapgl": [
           {
            "colorbar": {
             "outlinewidth": 0,
             "ticks": ""
            },
            "colorscale": [
             [
              0,
              "#0d0887"
             ],
             [
              0.1111111111111111,
              "#46039f"
             ],
             [
              0.2222222222222222,
              "#7201a8"
             ],
             [
              0.3333333333333333,
              "#9c179e"
             ],
             [
              0.4444444444444444,
              "#bd3786"
             ],
             [
              0.5555555555555556,
              "#d8576b"
             ],
             [
              0.6666666666666666,
              "#ed7953"
             ],
             [
              0.7777777777777778,
              "#fb9f3a"
             ],
             [
              0.8888888888888888,
              "#fdca26"
             ],
             [
              1,
              "#f0f921"
             ]
            ],
            "type": "heatmapgl"
           }
          ],
          "histogram": [
           {
            "marker": {
             "pattern": {
              "fillmode": "overlay",
              "size": 10,
              "solidity": 0.2
             }
            },
            "type": "histogram"
           }
          ],
          "histogram2d": [
           {
            "colorbar": {
             "outlinewidth": 0,
             "ticks": ""
            },
            "colorscale": [
             [
              0,
              "#0d0887"
             ],
             [
              0.1111111111111111,
              "#46039f"
             ],
             [
              0.2222222222222222,
              "#7201a8"
             ],
             [
              0.3333333333333333,
              "#9c179e"
             ],
             [
              0.4444444444444444,
              "#bd3786"
             ],
             [
              0.5555555555555556,
              "#d8576b"
             ],
             [
              0.6666666666666666,
              "#ed7953"
             ],
             [
              0.7777777777777778,
              "#fb9f3a"
             ],
             [
              0.8888888888888888,
              "#fdca26"
             ],
             [
              1,
              "#f0f921"
             ]
            ],
            "type": "histogram2d"
           }
          ],
          "histogram2dcontour": [
           {
            "colorbar": {
             "outlinewidth": 0,
             "ticks": ""
            },
            "colorscale": [
             [
              0,
              "#0d0887"
             ],
             [
              0.1111111111111111,
              "#46039f"
             ],
             [
              0.2222222222222222,
              "#7201a8"
             ],
             [
              0.3333333333333333,
              "#9c179e"
             ],
             [
              0.4444444444444444,
              "#bd3786"
             ],
             [
              0.5555555555555556,
              "#d8576b"
             ],
             [
              0.6666666666666666,
              "#ed7953"
             ],
             [
              0.7777777777777778,
              "#fb9f3a"
             ],
             [
              0.8888888888888888,
              "#fdca26"
             ],
             [
              1,
              "#f0f921"
             ]
            ],
            "type": "histogram2dcontour"
           }
          ],
          "mesh3d": [
           {
            "colorbar": {
             "outlinewidth": 0,
             "ticks": ""
            },
            "type": "mesh3d"
           }
          ],
          "parcoords": [
           {
            "line": {
             "colorbar": {
              "outlinewidth": 0,
              "ticks": ""
             }
            },
            "type": "parcoords"
           }
          ],
          "pie": [
           {
            "automargin": true,
            "type": "pie"
           }
          ],
          "scatter": [
           {
            "fillpattern": {
             "fillmode": "overlay",
             "size": 10,
             "solidity": 0.2
            },
            "type": "scatter"
           }
          ],
          "scatter3d": [
           {
            "line": {
             "colorbar": {
              "outlinewidth": 0,
              "ticks": ""
             }
            },
            "marker": {
             "colorbar": {
              "outlinewidth": 0,
              "ticks": ""
             }
            },
            "type": "scatter3d"
           }
          ],
          "scattercarpet": [
           {
            "marker": {
             "colorbar": {
              "outlinewidth": 0,
              "ticks": ""
             }
            },
            "type": "scattercarpet"
           }
          ],
          "scattergeo": [
           {
            "marker": {
             "colorbar": {
              "outlinewidth": 0,
              "ticks": ""
             }
            },
            "type": "scattergeo"
           }
          ],
          "scattergl": [
           {
            "marker": {
             "colorbar": {
              "outlinewidth": 0,
              "ticks": ""
             }
            },
            "type": "scattergl"
           }
          ],
          "scattermapbox": [
           {
            "marker": {
             "colorbar": {
              "outlinewidth": 0,
              "ticks": ""
             }
            },
            "type": "scattermapbox"
           }
          ],
          "scatterpolar": [
           {
            "marker": {
             "colorbar": {
              "outlinewidth": 0,
              "ticks": ""
             }
            },
            "type": "scatterpolar"
           }
          ],
          "scatterpolargl": [
           {
            "marker": {
             "colorbar": {
              "outlinewidth": 0,
              "ticks": ""
             }
            },
            "type": "scatterpolargl"
           }
          ],
          "scatterternary": [
           {
            "marker": {
             "colorbar": {
              "outlinewidth": 0,
              "ticks": ""
             }
            },
            "type": "scatterternary"
           }
          ],
          "surface": [
           {
            "colorbar": {
             "outlinewidth": 0,
             "ticks": ""
            },
            "colorscale": [
             [
              0,
              "#0d0887"
             ],
             [
              0.1111111111111111,
              "#46039f"
             ],
             [
              0.2222222222222222,
              "#7201a8"
             ],
             [
              0.3333333333333333,
              "#9c179e"
             ],
             [
              0.4444444444444444,
              "#bd3786"
             ],
             [
              0.5555555555555556,
              "#d8576b"
             ],
             [
              0.6666666666666666,
              "#ed7953"
             ],
             [
              0.7777777777777778,
              "#fb9f3a"
             ],
             [
              0.8888888888888888,
              "#fdca26"
             ],
             [
              1,
              "#f0f921"
             ]
            ],
            "type": "surface"
           }
          ],
          "table": [
           {
            "cells": {
             "fill": {
              "color": "#EBF0F8"
             },
             "line": {
              "color": "white"
             }
            },
            "header": {
             "fill": {
              "color": "#C8D4E3"
             },
             "line": {
              "color": "white"
             }
            },
            "type": "table"
           }
          ]
         },
         "layout": {
          "annotationdefaults": {
           "arrowcolor": "#2a3f5f",
           "arrowhead": 0,
           "arrowwidth": 1
          },
          "autotypenumbers": "strict",
          "coloraxis": {
           "colorbar": {
            "outlinewidth": 0,
            "ticks": ""
           }
          },
          "colorscale": {
           "diverging": [
            [
             0,
             "#8e0152"
            ],
            [
             0.1,
             "#c51b7d"
            ],
            [
             0.2,
             "#de77ae"
            ],
            [
             0.3,
             "#f1b6da"
            ],
            [
             0.4,
             "#fde0ef"
            ],
            [
             0.5,
             "#f7f7f7"
            ],
            [
             0.6,
             "#e6f5d0"
            ],
            [
             0.7,
             "#b8e186"
            ],
            [
             0.8,
             "#7fbc41"
            ],
            [
             0.9,
             "#4d9221"
            ],
            [
             1,
             "#276419"
            ]
           ],
           "sequential": [
            [
             0,
             "#0d0887"
            ],
            [
             0.1111111111111111,
             "#46039f"
            ],
            [
             0.2222222222222222,
             "#7201a8"
            ],
            [
             0.3333333333333333,
             "#9c179e"
            ],
            [
             0.4444444444444444,
             "#bd3786"
            ],
            [
             0.5555555555555556,
             "#d8576b"
            ],
            [
             0.6666666666666666,
             "#ed7953"
            ],
            [
             0.7777777777777778,
             "#fb9f3a"
            ],
            [
             0.8888888888888888,
             "#fdca26"
            ],
            [
             1,
             "#f0f921"
            ]
           ],
           "sequentialminus": [
            [
             0,
             "#0d0887"
            ],
            [
             0.1111111111111111,
             "#46039f"
            ],
            [
             0.2222222222222222,
             "#7201a8"
            ],
            [
             0.3333333333333333,
             "#9c179e"
            ],
            [
             0.4444444444444444,
             "#bd3786"
            ],
            [
             0.5555555555555556,
             "#d8576b"
            ],
            [
             0.6666666666666666,
             "#ed7953"
            ],
            [
             0.7777777777777778,
             "#fb9f3a"
            ],
            [
             0.8888888888888888,
             "#fdca26"
            ],
            [
             1,
             "#f0f921"
            ]
           ]
          },
          "colorway": [
           "#636efa",
           "#EF553B",
           "#00cc96",
           "#ab63fa",
           "#FFA15A",
           "#19d3f3",
           "#FF6692",
           "#B6E880",
           "#FF97FF",
           "#FECB52"
          ],
          "font": {
           "color": "#2a3f5f"
          },
          "geo": {
           "bgcolor": "white",
           "lakecolor": "white",
           "landcolor": "#E5ECF6",
           "showlakes": true,
           "showland": true,
           "subunitcolor": "white"
          },
          "hoverlabel": {
           "align": "left"
          },
          "hovermode": "closest",
          "mapbox": {
           "style": "light"
          },
          "paper_bgcolor": "white",
          "plot_bgcolor": "#E5ECF6",
          "polar": {
           "angularaxis": {
            "gridcolor": "white",
            "linecolor": "white",
            "ticks": ""
           },
           "bgcolor": "#E5ECF6",
           "radialaxis": {
            "gridcolor": "white",
            "linecolor": "white",
            "ticks": ""
           }
          },
          "scene": {
           "xaxis": {
            "backgroundcolor": "#E5ECF6",
            "gridcolor": "white",
            "gridwidth": 2,
            "linecolor": "white",
            "showbackground": true,
            "ticks": "",
            "zerolinecolor": "white"
           },
           "yaxis": {
            "backgroundcolor": "#E5ECF6",
            "gridcolor": "white",
            "gridwidth": 2,
            "linecolor": "white",
            "showbackground": true,
            "ticks": "",
            "zerolinecolor": "white"
           },
           "zaxis": {
            "backgroundcolor": "#E5ECF6",
            "gridcolor": "white",
            "gridwidth": 2,
            "linecolor": "white",
            "showbackground": true,
            "ticks": "",
            "zerolinecolor": "white"
           }
          },
          "shapedefaults": {
           "line": {
            "color": "#2a3f5f"
           }
          },
          "ternary": {
           "aaxis": {
            "gridcolor": "white",
            "linecolor": "white",
            "ticks": ""
           },
           "baxis": {
            "gridcolor": "white",
            "linecolor": "white",
            "ticks": ""
           },
           "bgcolor": "#E5ECF6",
           "caxis": {
            "gridcolor": "white",
            "linecolor": "white",
            "ticks": ""
           }
          },
          "title": {
           "x": 0.05
          },
          "xaxis": {
           "automargin": true,
           "gridcolor": "white",
           "linecolor": "white",
           "ticks": "",
           "title": {
            "standoff": 15
           },
           "zerolinecolor": "white",
           "zerolinewidth": 2
          },
          "yaxis": {
           "automargin": true,
           "gridcolor": "white",
           "linecolor": "white",
           "ticks": "",
           "title": {
            "standoff": 15
           },
           "zerolinecolor": "white",
           "zerolinewidth": 2
          }
         }
        },
        "title": {
         "text": "3D PCA Comparison: Cluster vs Personality",
         "x": 0.5
        },
        "width": 1200
       }
      }
     },
     "metadata": {},
     "output_type": "display_data"
    }
   ],
   "source": [
    "# Assuming `pca_df` contains the columns: ['PC1', 'PC2', 'PC3', 'Cluster', 'Personality']\n",
    "\n",
    "# Create a 3D scatter plot for Cluster\n",
    "fig1 = px.scatter_3d(pca_df, x='PC1', y='PC2', z='PC3', color='Cluster',\n",
    "                     color_discrete_sequence=px.colors.qualitative.Dark24, size_max=10)\n",
    "fig1.update_traces(marker=dict(size=5))\n",
    "\n",
    "# Create a 3D scatter plot for Personality\n",
    "fig2 = px.scatter_3d(pca_df, x='PC1', y='PC2', z='PC3', color='Personality',\n",
    "                     color_discrete_sequence=px.colors.qualitative.Dark24, size_max=10)\n",
    "fig2.update_traces(marker=dict(size=5))\n",
    "\n",
    "# Create subplots\n",
    "fig = make_subplots(rows=1, cols=2, \n",
    "                    specs=[[{'type': 'scatter3d'}, {'type': 'scatter3d'}]], \n",
    "                    subplot_titles=(\n",
    "                        f\"PC1 vs PC2 (Explained Variance: {pca.explained_variance_ratio_[0]:.2%}, {pca.explained_variance_ratio_[1]:.2%}) - Cluster\",\n",
    "                        f\"PC1 vs PC2 (Explained Variance: {pca.explained_variance_ratio_[0]:.2%}, {pca.explained_variance_ratio_[1]:.2%}) - Personality\"\n",
    "                    ))\n",
    "\n",
    "# Add the Cluster plot to the first subplot\n",
    "fig.add_traces(fig1.data, rows=1, cols=1)\n",
    "\n",
    "# Add the Personality plot to the second subplot\n",
    "fig.add_traces(fig2.data, rows=1, cols=2)\n",
    "\n",
    "# Update layout\n",
    "fig.update_layout(scene=dict(\n",
    "                        xaxis_title=f'PC1 ({pca.explained_variance_ratio_[0]:.2%} Variance)',\n",
    "                        yaxis_title=f'PC2 ({pca.explained_variance_ratio_[1]:.2%} Variance)',\n",
    "                        zaxis_title=f'PC3 ({pca.explained_variance_ratio_[2]:.2%} Variance)'),\n",
    "                  scene2=dict(\n",
    "                        xaxis_title=f'PC1 ({pca.explained_variance_ratio_[0]:.2%} Variance)',\n",
    "                        yaxis_title=f'PC2 ({pca.explained_variance_ratio_[1]:.2%} Variance)',\n",
    "                        zaxis_title=f'PC3 ({pca.explained_variance_ratio_[2]:.2%} Variance)'),\n",
    "                  height=600, width=1200, title_text=\"3D PCA Comparison: Cluster vs Personality\", \n",
    "                  title_x=0.5)\n",
    "\n",
    "# Show the plot\n",
    "fig.show()"
   ]
  }
 ],
 "metadata": {
  "kernelspec": {
   "display_name": "base",
   "language": "python",
   "name": "python3"
  },
  "language_info": {
   "codemirror_mode": {
    "name": "ipython",
    "version": 3
   },
   "file_extension": ".py",
   "mimetype": "text/x-python",
   "name": "python",
   "nbconvert_exporter": "python",
   "pygments_lexer": "ipython3",
   "version": "3.11.7"
  }
 },
 "nbformat": 4,
 "nbformat_minor": 2
}
